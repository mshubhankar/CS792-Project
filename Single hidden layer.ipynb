{
 "cells": [
  {
   "cell_type": "code",
   "execution_count": 1,
   "metadata": {},
   "outputs": [],
   "source": [
    "import torch\n",
    "import pandas as pd\n",
    "import numpy as np\n",
    "import copy\n",
    "from torch import nn\n",
    "import torch.nn.functional as F\n",
    "from torch import optim\n",
    "from sklearn.model_selection import train_test_split"
   ]
  },
  {
   "cell_type": "code",
   "execution_count": 4,
   "metadata": {},
   "outputs": [],
   "source": [
    "dataframe=np.genfromtxt(\"diabetes.csv\",delimiter=',',skip_header=1)"
   ]
  },
  {
   "cell_type": "code",
   "execution_count": 5,
   "metadata": {},
   "outputs": [],
   "source": [
    "X=dataframe[:,0:8]\n",
    "Y=dataframe[:,8]\n",
    "Y=Y.reshape(768,1)\n",
    "\n",
    "dtype=torch.float\n",
    "device=torch.device(\"cpu\")"
   ]
  },
  {
   "cell_type": "code",
   "execution_count": 6,
   "metadata": {},
   "outputs": [],
   "source": [
    "from sklearn.preprocessing import StandardScaler\n",
    "model=StandardScaler()\n",
    "X=model.fit_transform(X)\n",
    "\n"
   ]
  },
  {
   "cell_type": "code",
   "execution_count": 7,
   "metadata": {},
   "outputs": [],
   "source": [
    "X_train, X_test, y_train, y_test = train_test_split(X, Y, test_size=0.2, random_state=0)"
   ]
  },
  {
   "cell_type": "code",
   "execution_count": 8,
   "metadata": {},
   "outputs": [],
   "source": [
    "data = torch.from_numpy(X_train)\n",
    "target = torch.from_numpy(y_train)\n",
    "data,target=data.type(torch.FloatTensor),target.type(torch.FloatTensor)"
   ]
  },
  {
   "cell_type": "code",
   "execution_count": 9,
   "metadata": {},
   "outputs": [],
   "source": [
    "data_length,data_width=data.shape"
   ]
  },
  {
   "cell_type": "code",
   "execution_count": 10,
   "metadata": {},
   "outputs": [],
   "source": [
    "class my_network(torch.nn.Module):\n",
    "    def __init__(self):\n",
    "        super(my_network, self).__init__()\n",
    "        self.fc1=nn.Linear(data_width,1)\n",
    "        \n",
    "    def forward(self,input_):        \n",
    "        y=self.fc1(input_)\n",
    "#         y=self.activ3(y)\n",
    "        return y"
   ]
  },
  {
   "cell_type": "code",
   "execution_count": 11,
   "metadata": {},
   "outputs": [],
   "source": [
    "model = my_network()\n",
    "loss= torch.nn.MSELoss()"
   ]
  },
  {
   "cell_type": "code",
   "execution_count": 12,
   "metadata": {},
   "outputs": [
    {
     "name": "stdout",
     "output_type": "stream",
     "text": [
      "Bob:tensor(0.3190)\n",
      "Bob:tensor(0.2054)\n",
      "Bob:tensor(0.1768)\n",
      "Bob:tensor(0.1678)\n",
      "Bob:tensor(0.1646)\n",
      "Bob:tensor(0.1634)\n",
      "Bob:tensor(0.1629)\n",
      "Bob:tensor(0.1626)\n",
      "Bob:tensor(0.1625)\n",
      "Bob:tensor(0.1625)\n",
      "Bob:tensor(0.1624)\n",
      "Bob:tensor(0.1624)\n",
      "Bob:tensor(0.1624)\n",
      "Bob:tensor(0.1624)\n",
      "Bob:tensor(0.1624)\n",
      "Bob:tensor(0.1624)\n",
      "Bob:tensor(0.1624)\n",
      "Bob:tensor(0.1624)\n",
      "Bob:tensor(0.1624)\n",
      "Bob:tensor(0.1624)\n"
     ]
    }
   ],
   "source": [
    "iterations = 20\n",
    "worker_iters = 300\n",
    "\n",
    "for a_iter in range(iterations):\n",
    "    \n",
    "    bobs_opt = optim.SGD(params=model.parameters(),lr=0.001)\n",
    "#     bobs_opt = optim.SGD(params=model.parameters(),lr=0.001)\n",
    "\n",
    "    for wi in range(worker_iters):\n",
    "\n",
    "        # Train Bob's Model\n",
    "        bobs_opt.zero_grad()\n",
    "#         bobs_w1=F.R model.fc1(data)\n",
    "#         bobs_w2=model.fc2(bobs_w1)\n",
    "#         bobs_pred=model.fc3(bobs_w2)\n",
    "        bobs_pred=model.forward(data)\n",
    "#         bobs_pred=bobs_model.fc3(bobs_w2)\n",
    "#         bobs_w1=model.fc1(data)\n",
    "#         bobs_w1=bobs_model.activ1(bobs_w1)\n",
    "#         bobs_pred=model.fc2(bobs_w1)\n",
    "#         bobs_pred=bobs_model.softmax(bobs_pred)\n",
    "#         bobs_loss = ((bobs_pred - target)**2).sum()\n",
    "        bobs_loss=loss(bobs_pred,target)\n",
    "        bobs_loss.backward()\n",
    "        \n",
    "        bobs_opt.step()\n",
    "#         bobs_opt.step(bobs_data.shape[0])\n",
    "#         bobs_loss = bobs_loss.get().data\n",
    "\n",
    "    print(\"Bob:\" + str(bobs_loss.data))"
   ]
  },
  {
   "cell_type": "code",
   "execution_count": 13,
   "metadata": {},
   "outputs": [],
   "source": [
    "X_test = torch.from_numpy(X_test)\n",
    "y_test = torch.from_numpy(y_test)\n",
    "X_test,y_test=X_test.type(torch.FloatTensor),y_test.type(torch.FloatTensor)\n",
    "pred=model(X_test)"
   ]
  },
  {
   "cell_type": "code",
   "execution_count": 14,
   "metadata": {},
   "outputs": [],
   "source": [
    "pred=torch.round(pred)\n",
    "output=pred-y_test"
   ]
  },
  {
   "cell_type": "code",
   "execution_count": 15,
   "metadata": {},
   "outputs": [
    {
     "data": {
      "text/plain": [
       "0.8246753246753247"
      ]
     },
     "execution_count": 15,
     "metadata": {},
     "output_type": "execute_result"
    }
   ],
   "source": [
    "incorrect_labels=len(np.nonzero(output))\n",
    "\n",
    "accuracy=1-(incorrect_labels/len(X_test))\n",
    "\n",
    "accuracy"
   ]
  },
  {
   "cell_type": "code",
   "execution_count": 16,
   "metadata": {},
   "outputs": [
    {
     "name": "stdout",
     "output_type": "stream",
     "text": [
      "              precision    recall  f1-score   support\n",
      "\n",
      "        -1.0       0.00      0.00      0.00         0\n",
      "         0.0       0.84      0.92      0.88       107\n",
      "         1.0       0.78      0.62      0.69        47\n",
      "\n",
      "   micro avg       0.82      0.82      0.82       154\n",
      "   macro avg       0.54      0.51      0.52       154\n",
      "weighted avg       0.83      0.82      0.82       154\n",
      "\n"
     ]
    },
    {
     "name": "stderr",
     "output_type": "stream",
     "text": [
      "/usr/local/lib/python3.7/site-packages/sklearn/metrics/classification.py:1145: UndefinedMetricWarning: Recall and F-score are ill-defined and being set to 0.0 in labels with no true samples.\n",
      "  'recall', 'true', average, warn_for)\n"
     ]
    }
   ],
   "source": [
    "from sklearn.metrics import classification_report\n",
    "print(classification_report(y_test.detach().numpy(),pred.detach().numpy()))"
   ]
  },
  {
   "cell_type": "code",
   "execution_count": null,
   "metadata": {},
   "outputs": [],
   "source": []
  }
 ],
 "metadata": {
  "kernelspec": {
   "display_name": "Python 3",
   "language": "python",
   "name": "python3"
  },
  "language_info": {
   "codemirror_mode": {
    "name": "ipython",
    "version": 3
   },
   "file_extension": ".py",
   "mimetype": "text/x-python",
   "name": "python",
   "nbconvert_exporter": "python",
   "pygments_lexer": "ipython3",
   "version": "3.7.2"
  }
 },
 "nbformat": 4,
 "nbformat_minor": 2
}
